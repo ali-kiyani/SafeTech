{
 "cells": [
  {
   "cell_type": "code",
   "execution_count": 3,
   "metadata": {},
   "outputs": [],
   "source": [
    "import pymysql\n",
    "\n",
    "host = 'safetech.ce2wpfxccpai.us-east-2.rds.amazonaws.com'\n",
    "user = 'admin'\n",
    "password = 'ammad777$'\n",
    "database = 'ForeSpark'\n",
    "port=1433"
   ]
  },
  {
   "cell_type": "code",
   "execution_count": null,
   "metadata": {},
   "outputs": [],
   "source": [
    "connection = pymysql.connect(host, user, password, database,port=port)\n",
    "# with connection:\n",
    "#     cur = connection.cursor()\n",
    "#     cur.execute(\"SELECT VERSION()\")\n",
    "#     version = cur.fetchone()\n",
    "#     print(\"Database version: {} \".format(version[0]))"
   ]
  },
  {
   "cell_type": "code",
   "execution_count": null,
   "metadata": {},
   "outputs": [],
   "source": []
  }
 ],
 "metadata": {
  "kernelspec": {
   "display_name": "Python 3",
   "language": "python",
   "name": "python3"
  }
 },
 "nbformat": 4,
 "nbformat_minor": 4
}
